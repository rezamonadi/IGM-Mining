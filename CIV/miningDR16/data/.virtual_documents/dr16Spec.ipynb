import numpy as np
from astropy.io import fits
import matplotlib.pyplot as plt
hdul = fits.open('DR16Q_v4.fits')


dr16q = hdul[1].data


# thingID = dr16q['THING_ID']
# zQSO = dr16q['Z_VI']
# BAL_prob = dr16q['BAL_PROB']


# maskCoverage = (1310*(1+zQSO)<3650) | (1548*(1+zQSO)>10400) 

# maskZ = (zQSO<1.7)

# dr16q_good = dr16q[(BAL_prob<0.5) & (~maskCoverage) & (~maskZ)]
mjds = dr16q['MJD']
plates = dr16q['PLATE']
fiber_ids = dr16q['FIBERID']


with open(r"dr16Spec.list", "w") as fid:
    for i in range(len(fiber_ids)):
        
        url = "https://data.sdss.org/sas/dr16/eboss/spectro/redux/{}/spectra/lite/{:d}/spec-{:d}-{:d}-{:04d}.fits\n".format("v5_13_0", 
                plates[i],
                plates[i],
                mjds[i],
                fiber_ids[i])
        fid.write(url)
