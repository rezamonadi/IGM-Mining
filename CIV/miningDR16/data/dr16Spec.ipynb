{
 "cells": [
  {
   "cell_type": "code",
   "execution_count": 170,
   "metadata": {},
   "outputs": [],
   "source": [
    "import numpy as np\n",
    "from astropy.io import fits\n",
    "import matplotlib.pyplot as plt\n",
    "hdul = fits.open('DR16Q_v4.fits')"
   ]
  },
  {
   "cell_type": "code",
   "execution_count": 171,
   "metadata": {},
   "outputs": [],
   "source": [
    "dr16q = hdul[1].data"
   ]
  },
  {
   "cell_type": "code",
   "execution_count": 172,
   "metadata": {},
   "outputs": [],
   "source": [
    "# thingID = dr16q['THING_ID']\n",
    "zQSO = dr16q['Z']\n",
    "BAL_prob = dr16q['BAL_PROB']"
   ]
  },
  {
   "cell_type": "code",
   "execution_count": 173,
   "metadata": {},
   "outputs": [],
   "source": [
    "maskCoverage = (1310*(1+zQSO)<3650) | (1548*(1+zQSO)>10000) \n",
    "\n",
    "dr16q_good = dr16q[ (BAL_prob<=0.0) & (~maskCoverage) ]\n",
    "mjds = dr16q_good['MJD']\n",
    "plates = dr16q_good['PLATE']\n",
    "fiber_ids = dr16q_good['FIBERID']"
   ]
  },
  {
   "cell_type": "code",
   "execution_count": 174,
   "metadata": {},
   "outputs": [],
   "source": [
    "with open(r\"dr16Spec.list\", \"w\") as fid:\n",
    "    for i in range(len(fiber_ids)):\n",
    "        if plates[i]>=3523:\n",
    "            url = \"https://data.sdss.org/sas/dr16/eboss/spectro/redux/{}/spectra/lite/{:d}/spec-{:d}-{:d}-{:04d}.fits\\n\".format(\"v5_13_0\", \n",
    "                plates[i],\n",
    "                plates[i],\n",
    "                mjds[i],\n",
    "                fiber_ids[i])\n",
    "\n",
    "        else:\n",
    "            if (plates[i]!=2256):\n",
    "                url = \"https://data.sdss.org/sas/dr16/sdss/spectro/redux/26/spectra/lite/{:04d}/spec-{:04d}-{:d}-{:04d}.fits\\n\".format(\n",
    "                    plates[i],\n",
    "                    plates[i],\n",
    "                    mjds[i],\n",
    "                    fiber_ids[i])\n",
    "            else:\n",
    "                 url = \"https://data.sdss.org/sas/dr16/sdss/spectro/redux/103/spectra/lite/{:04d}/spec-{:04d}-{:d}-{:04d}.fits\\n\".format(\n",
    "                    plates[i],\n",
    "                    plates[i],\n",
    "                    mjds[i],\n",
    "                    fiber_ids[i])\n",
    "    \n",
    "        fid.write(url)"
   ]
  },
  {
   "cell_type": "code",
   "execution_count": null,
   "metadata": {},
   "outputs": [],
   "source": []
  }
 ],
 "metadata": {
  "kernelspec": {
   "display_name": "Python 3 (ipykernel)",
   "language": "python",
   "name": "python3"
  },
  "language_info": {
   "codemirror_mode": {
    "name": "ipython",
    "version": 3
   },
   "file_extension": ".py",
   "mimetype": "text/x-python",
   "name": "python",
   "nbconvert_exporter": "python",
   "pygments_lexer": "ipython3",
   "version": "3.12.4"
  }
 },
 "nbformat": 4,
 "nbformat_minor": 4
}
