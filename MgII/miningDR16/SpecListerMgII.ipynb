{
 "cells": [
  {
   "cell_type": "code",
   "execution_count": 1,
   "id": "dcef4c69",
   "metadata": {},
   "outputs": [],
   "source": [
    "import numpy as np\n",
    "from astropy.io import fits\n",
    "import matplotlib.pyplot as plt\n",
    "hdul = fits.open('data/DR16Q_v4.fits')\n",
    "dr16q = hdul[1].data"
   ]
  },
  {
   "cell_type": "code",
   "execution_count": 2,
   "id": "1dd582f6",
   "metadata": {},
   "outputs": [],
   "source": [
    "# thingID = dr16q['THING_ID']\n",
    "zQSO = dr16q['Z']\n",
    "BAL_prob = dr16q['BAL_PROB']"
   ]
  },
  {
   "cell_type": "code",
   "execution_count": 3,
   "id": "2d9c5a0f",
   "metadata": {},
   "outputs": [],
   "source": [
    "# maskCoverage = (1310*(1+zQSO)<3650) | (2850*(1+zQSO)>10400) \n",
    "\n",
    "# maskZ = (zQSO<0)\n",
    "\n",
    "# dr16q_good = dr16q[(BAL_prob<0.01) & (~maskCoverage) & (~maskZ)]\n",
    "dr16q_good = dr16q[(BAL_prob<=0.01) &  (1310*(1+zQSO)>3650) & (2850*(1+zQSO)<10400)]\n",
    "mjds = dr16q_good['MJD']\n",
    "plates = dr16q_good['PLATE']\n",
    "fiber_ids = dr16q_good['FIBERID']"
   ]
  },
  {
   "cell_type": "code",
   "execution_count": 4,
   "id": "5e99a835",
   "metadata": {},
   "outputs": [],
   "source": [
    "with open(r\"dr16Spec_MgII.list\", \"w\") as fid:\n",
    "    for i in range(len(fiber_ids)):\n",
    "\n",
    "    \n",
    "        if plates[i] <= 3006:\n",
    "            url = \"https://data.sdss.org/sas/dr16/sdss/spectro/redux/26/spectra/lite/{:04d}/spec-{:04d}-{:d}-{:04d}.fits\\n\".format(plates[i],\n",
    "                    plates[i],\n",
    "                    mjds[i],\n",
    "                    fiber_ids[i])\n",
    "            \n",
    "\n",
    "        if plates[i] > 3006:\n",
    "            url = \"https://data.sdss.org/sas/dr16/eboss/spectro/redux/v5_13_0/spectra/lite/{:04d}/spec-{:04d}-{:d}-{:04d}.fits\\n\".format(plates[i],\n",
    "                    plates[i],\n",
    "                    mjds[i],\n",
    "                    fiber_ids[i])\n",
    "        \n",
    "        fid.write(url)"
   ]
  },
  {
   "cell_type": "code",
   "execution_count": 5,
   "id": "068c1273",
   "metadata": {},
   "outputs": [
    {
     "name": "stdout",
     "output_type": "stream",
     "text": [
      "190908\n"
     ]
    }
   ],
   "source": [
    "print(np.size(dr16q_good))"
   ]
  },
  {
   "cell_type": "code",
   "execution_count": null,
   "id": "8287f143",
   "metadata": {},
   "outputs": [],
   "source": []
  }
 ],
 "metadata": {
  "kernelspec": {
   "display_name": "base",
   "language": "python",
   "name": "python3"
  },
  "language_info": {
   "codemirror_mode": {
    "name": "ipython",
    "version": 3
   },
   "file_extension": ".py",
   "mimetype": "text/x-python",
   "name": "python",
   "nbconvert_exporter": "python",
   "pygments_lexer": "ipython3",
   "version": "3.13.5"
  }
 },
 "nbformat": 4,
 "nbformat_minor": 5
}
